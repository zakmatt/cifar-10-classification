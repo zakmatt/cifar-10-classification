{
 "cells": [
  {
   "cell_type": "markdown",
   "metadata": {},
   "source": [
    "# Dataset\n",
    "Download data from:  \n",
    "https://www.cs.toronto.edu/~kriz/cifar-10-python.tar.gz - **This is a CIFAR-10 version for python**"
   ]
  },
  {
   "cell_type": "code",
   "execution_count": 19,
   "metadata": {},
   "outputs": [],
   "source": [
    "import matplotlib.pyplot as plt\n",
    "import numpy as np\n",
    "import os\n",
    "import pickle\n",
    "%matplotlib inline"
   ]
  },
  {
   "cell_type": "code",
   "execution_count": 60,
   "metadata": {},
   "outputs": [],
   "source": [
    "import tensorflow as tf"
   ]
  },
  {
   "cell_type": "code",
   "execution_count": 1,
   "metadata": {},
   "outputs": [],
   "source": [
    "# your data path\n",
    "CIFAR_PATH = 'data/'"
   ]
  },
  {
   "cell_type": "code",
   "execution_count": 2,
   "metadata": {},
   "outputs": [],
   "source": [
    "# unpickle data\n",
    "def unpickle(file):\n",
    "    with open(file, 'rb') as f:\n",
    "        cifar_dict = pickle.load(f, encoding='bytes')\n",
    "    return cifar_dict"
   ]
  },
  {
   "cell_type": "code",
   "execution_count": 3,
   "metadata": {},
   "outputs": [],
   "source": [
    "dirs = ['batches.meta','data_batch_1','data_batch_2','data_batch_3','data_batch_4','data_batch_5','test_batch']"
   ]
  },
  {
   "cell_type": "code",
   "execution_count": 10,
   "metadata": {},
   "outputs": [],
   "source": [
    "all_data = {}\n",
    "for dir in dirs:\n",
    "    file_path = os.path.join(CIFAR_PATH, dir)\n",
    "    all_data[dir] = unpickle(file_path)"
   ]
  },
  {
   "cell_type": "code",
   "execution_count": 14,
   "metadata": {},
   "outputs": [
    {
     "data": {
      "text/plain": [
       "{b'label_names': [b'airplane',\n",
       "  b'automobile',\n",
       "  b'bird',\n",
       "  b'cat',\n",
       "  b'deer',\n",
       "  b'dog',\n",
       "  b'frog',\n",
       "  b'horse',\n",
       "  b'ship',\n",
       "  b'truck'],\n",
       " b'num_cases_per_batch': 10000,\n",
       " b'num_vis': 3072}"
      ]
     },
     "execution_count": 14,
     "metadata": {},
     "output_type": "execute_result"
    }
   ],
   "source": [
    "all_data['batches.meta']"
   ]
  },
  {
   "cell_type": "code",
   "execution_count": 15,
   "metadata": {},
   "outputs": [
    {
     "data": {
      "text/plain": [
       "dict_keys([b'batch_label', b'labels', b'data', b'filenames'])"
      ]
     },
     "execution_count": 15,
     "metadata": {},
     "output_type": "execute_result"
    }
   ],
   "source": [
    "all_data['data_batch_1'].keys()"
   ]
  },
  {
   "cell_type": "markdown",
   "metadata": {},
   "source": [
    "Loaded in this way, each of the batch files contains a dictionary with the following elements:\n",
    "\n",
    "data -- a 10000x3072 numpy array of uint8s. Each row of the array stores a 32x32 colour image. The first 1024 entries contain the red channel values, the next 1024 the green, and the final 1024 the blue. The image is stored in row-major order, so that the first 32 entries of the array are the red channel values of the first row of the image.\n",
    "labels -- a list of 10000 numbers in the range 0-9. The number at index i indicates the label of the ith image in the array data.\n",
    "The dataset contains another file, called batches.meta. It too contains a Python dictionary object. It has the following entries:\n",
    "\n",
    "label_names -- a 10-element list which gives meaningful names to the numeric labels in the labels array described above. For example, label_names[0] == \"airplane\", label_names[1] == \"automobile\", etc."
   ]
  },
  {
   "cell_type": "code",
   "execution_count": 18,
   "metadata": {},
   "outputs": [
    {
     "data": {
      "text/plain": [
       "(10000, 3072)"
      ]
     },
     "execution_count": 18,
     "metadata": {},
     "output_type": "execute_result"
    }
   ],
   "source": [
    "x = all_data['data_batch_1'][b'data']"
   ]
  },
  {
   "cell_type": "code",
   "execution_count": 23,
   "metadata": {},
   "outputs": [
    {
     "data": {
      "text/plain": [
       "(32, 32, 3)"
      ]
     },
     "execution_count": 23,
     "metadata": {},
     "output_type": "execute_result"
    }
   ],
   "source": [
    "x = x.reshape(10000, 3, 32, 32).transpose(0, 2, 3, 1).astype(np.uint8)\n",
    "x[0].shape"
   ]
  },
  {
   "cell_type": "code",
   "execution_count": 24,
   "metadata": {},
   "outputs": [
    {
     "data": {
      "text/plain": [
       "<matplotlib.image.AxesImage at 0x10be7a6a0>"
      ]
     },
     "execution_count": 24,
     "metadata": {},
     "output_type": "execute_result"
    },
    {
     "data": {
      "image/png": "[encoded data removed]",
      "text/plain": [
       "<matplotlib.figure.Figure at 0x10bdd5908>"
      ]
     },
     "metadata": {},
     "output_type": "display_data"
    }
   ],
   "source": [
    "plt.imshow(x[0])"
   ]
  },
  {
   "cell_type": "code",
   "execution_count": 25,
   "metadata": {},
   "outputs": [
    {
     "data": {
      "text/plain": [
       "<matplotlib.image.AxesImage at 0x10bf3fb70>"
      ]
     },
     "execution_count": 25,
     "metadata": {},
     "output_type": "execute_result"
    },
    {
     "data": {
      "image/png": "[encoded data removed]",
      "text/plain": [
       "<matplotlib.figure.Figure at 0x10be93710>"
      ]
     },
     "metadata": {},
     "output_type": "display_data"
    }
   ],
   "source": [
    "plt.imshow(x[1])"
   ]
  },
  {
   "cell_type": "code",
   "execution_count": 28,
   "metadata": {},
   "outputs": [
    {
     "data": {
      "text/plain": [
       "<matplotlib.image.AxesImage at 0x10c1cb780>"
      ]
     },
     "execution_count": 28,
     "metadata": {},
     "output_type": "execute_result"
    },
    {
     "data": {
      "image/png": "[encoded data removed]",
      "text/plain": [
       "<matplotlib.figure.Figure at 0x10c11c908>"
      ]
     },
     "metadata": {},
     "output_type": "display_data"
    }
   ],
   "source": [
    "plt.imshow(x[4])"
   ]
  },
  {
   "cell_type": "markdown",
   "metadata": {},
   "source": [
    "# Dealing with data functions"
   ]
  },
  {
   "cell_type": "code",
   "execution_count": 29,
   "metadata": {},
   "outputs": [],
   "source": [
    "def one_hot_encode(vec, vals=10):\n",
    "    # 10 possible labels\n",
    "    num_of_labels = len(vec)\n",
    "    labels_mtx = np.zeros(shape=(num_of_labels, vals))\n",
    "    labels_mtx[range(num_of_labels), vec] = 1\n",
    "    return labels_mtx"
   ]
  },
  {
   "cell_type": "code",
   "execution_count": 42,
   "metadata": {},
   "outputs": [],
   "source": [
    "data = [batch_data for key, batch_data in all_data.items() if 'data_batch_' in key]\n",
    "test_batch = all_data['test_batch']"
   ]
  },
  {
   "cell_type": "code",
   "execution_count": 87,
   "metadata": {},
   "outputs": [],
   "source": [
    "class DataHelper():\n",
    "    def __init__(self, data, test_batch):\n",
    "        self.curr_pos = 0\n",
    "        self.data = data\n",
    "        self.test_batch = [test_batch]\n",
    "        \n",
    "        # Intialize some empty variables for later on\n",
    "        self.training_imgs = None\n",
    "        self.training_labels = None\n",
    "        \n",
    "        self.test_imgs = None\n",
    "        self.test_labels = None\n",
    "    \n",
    "    def set_up_images(self):\n",
    "        def reshape_and_normalize(images):\n",
    "            imgs_len = images.shape[0]\n",
    "            images = images.reshape(imgs_len, 3, 32, 32).transpose(0, 2, 3, 1) / 255\n",
    "            return images\n",
    "        \n",
    "        print(\"Setting up training images and labels\")\n",
    "        \n",
    "        # training images\n",
    "        training_imgs = np.vstack([d_set[b'data'] for d_set in self.data])\n",
    "        self.train_length = training_imgs.shape[0]\n",
    "        self.training_imgs = reshape_and_normalize(training_imgs)\n",
    "        train_labels = np.hstack([d_set[b'labels'] for d_set in self.data])\n",
    "        self.training_labels = one_hot_encode(vec=train_labels, vals=10)\n",
    "        \n",
    "        print(\"Setting up test images and labels\")\n",
    "        \n",
    "        # test imges\n",
    "        test_imgs = np.vstack([d_set[b'data'] for d_set in self.test_batch])\n",
    "        self.test_imgs = reshape_and_normalize(test_imgs)\n",
    "        test_labels = np.hstack([d_set[b'labels'] for d_set in self.test_batch])\n",
    "        self.test_labels = one_hot_encode(vec=test_labels, vals=10)\n",
    "        \n",
    "    def next_batch(self, batch_size):\n",
    "        x = self.training_imgs[self.curr_pos:(self.curr_pos + batch_size)].reshape(batch_size, 32, 32, 3)\n",
    "        y = self.training_labels[self.curr_pos:(self.curr_pos + batch_size)]\n",
    "        self.curr_pos = (self.curr_pos + batch_size) % self.train_length\n",
    "        return x, y\n",
    "    \n",
    "    def get_test_images(self):\n",
    "        return self.test_imgs\n",
    "    def get_test_labels(self):\n",
    "        return self.test_labels"
   ]
  },
  {
   "cell_type": "markdown",
   "metadata": {},
   "source": [
    "# Create Data Helper and set up images"
   ]
  },
  {
   "cell_type": "code",
   "execution_count": 88,
   "metadata": {},
   "outputs": [
    {
     "name": "stdout",
     "output_type": "stream",
     "text": [
      "Setting up training images and labels\n",
      "Setting up test images and labels\n"
     ]
    }
   ],
   "source": [
    "data_helper = DataHelper(data=data, test_batch=test_batch)\n",
    "data_helper.set_up_images()"
   ]
  },
  {
   "cell_type": "markdown",
   "metadata": {},
   "source": [
    "# Create placeholders"
   ]
  },
  {
   "cell_type": "code",
   "execution_count": 61,
   "metadata": {},
   "outputs": [],
   "source": [
    "images = tf.placeholder(dtype=tf.float32, shape=[None, 32, 32, 3])\n",
    "labels = tf.placeholder(dtype=tf.float32, shape=[None, 10])\n",
    "hold_prob = tf.placeholder(dtype=tf.float32)"
   ]
  },
  {
   "cell_type": "markdown",
   "metadata": {},
   "source": [
    "# Create network functions"
   ]
  },
  {
   "cell_type": "code",
   "execution_count": 62,
   "metadata": {},
   "outputs": [],
   "source": [
    "def init_weights(shape):\n",
    "    random_weights = tf.truncated_normal(shape=shape, stddev=0.1)\n",
    "    return tf.Variable(random_weights)"
   ]
  },
  {
   "cell_type": "code",
   "execution_count": 64,
   "metadata": {},
   "outputs": [],
   "source": [
    "def init_bias(shape):\n",
    "    bias_vals = tf.constant(0.1, shape=shape)\n",
    "    return tf.Variable(bias_vals)"
   ]
  },
  {
   "cell_type": "code",
   "execution_count": 65,
   "metadata": {},
   "outputs": [],
   "source": [
    "def conv_2d(x, W):\n",
    "    return tf.nn.conv2d(x, W, strides=[1, 1, 1, 1], padding='SAME')"
   ]
  },
  {
   "cell_type": "code",
   "execution_count": 72,
   "metadata": {},
   "outputs": [],
   "source": [
    "def max_pool(x):\n",
    "    return tf.nn.max_pool(x, ksize=[1, 2, 2, 1], strides=[1, 2, 2, 1], padding='SAME')"
   ]
  },
  {
   "cell_type": "code",
   "execution_count": 75,
   "metadata": {},
   "outputs": [],
   "source": [
    "def convolution_layer(input_x, shape):\n",
    "    W = init_weights(shape)\n",
    "    b = init_bias([shape[3]])\n",
    "    return tf.nn.relu(conv_2d(input_x, W) + b)"
   ]
  },
  {
   "cell_type": "code",
   "execution_count": 69,
   "metadata": {},
   "outputs": [],
   "source": [
    "def fully_connected(input_x, size):\n",
    "    input_size = int(input_x.get_shape()[1])\n",
    "    W = init_weights([input_size, size])\n",
    "    b = init_bias([size])\n",
    "    return tf.matmul(input_x, W) + b"
   ]
  },
  {
   "cell_type": "markdown",
   "metadata": {},
   "source": [
    "# Create a network"
   ]
  },
  {
   "cell_type": "code",
   "execution_count": 76,
   "metadata": {},
   "outputs": [],
   "source": [
    "# Create convolution layer\n",
    "conv_1 = convolution_layer(images, shape=[4, 4, 3, 32]) # filter wight, height, input channels, output channels\n",
    "pool_1 = max_pool(conv_1)\n",
    "conv_2 = convolution_layer(pool_1, shape=[4, 4, 32, 64])\n",
    "pool_2 = max_pool(conv_2)"
   ]
  },
  {
   "cell_type": "code",
   "execution_count": 78,
   "metadata": {},
   "outputs": [],
   "source": [
    "# reshape for fully_connected\n",
    "pool_2 = tf.reshape(pool_2, shape=[-1, 8*8*64])"
   ]
  },
  {
   "cell_type": "code",
   "execution_count": 79,
   "metadata": {},
   "outputs": [],
   "source": [
    "# Create fully connected layer\n",
    "fully_conn_3 = tf.nn.relu(fully_connected(pool_2, size=512))\n",
    "drop_3 = tf.nn.dropout(fully_conn_3, keep_prob=hold_prob)\n",
    "labels_pred = fully_connected(drop_3, size=10)"
   ]
  },
  {
   "cell_type": "markdown",
   "metadata": {},
   "source": [
    "# Loss function"
   ]
  },
  {
   "cell_type": "code",
   "execution_count": 80,
   "metadata": {},
   "outputs": [],
   "source": [
    "cross_entropy = tf.reduce_mean(tf.nn.softmax_cross_entropy_with_logits(labels=labels, logits=labels_pred))"
   ]
  },
  {
   "cell_type": "markdown",
   "metadata": {},
   "source": [
    "# Optimizer"
   ]
  },
  {
   "cell_type": "code",
   "execution_count": 82,
   "metadata": {},
   "outputs": [],
   "source": [
    "optimizer = tf.train.AdamOptimizer(learning_rate=0.0001)\n",
    "train = optimizer.minimize(cross_entropy)"
   ]
  },
  {
   "cell_type": "markdown",
   "metadata": {},
   "source": [
    "# Initialize variables"
   ]
  },
  {
   "cell_type": "code",
   "execution_count": 83,
   "metadata": {},
   "outputs": [],
   "source": [
    "init_vars = tf.global_variables_initializer()"
   ]
  },
  {
   "cell_type": "code",
   "execution_count": 92,
   "metadata": {},
   "outputs": [
    {
     "name": "stdout",
     "output_type": "stream",
     "text": [
      "Current step: 0\n",
      "Accuracy: 0.07999999821186066\n",
      "\n",
      "\n",
      "Current step: 100\n",
      "Accuracy: 0.30000001192092896\n",
      "\n",
      "\n",
      "Current step: 200\n",
      "Accuracy: 0.36000001430511475\n",
      "\n",
      "\n",
      "Current step: 300\n",
      "Accuracy: 0.38999998569488525\n",
      "\n",
      "\n",
      "Current step: 400\n",
      "Accuracy: 0.4300000071525574\n",
      "\n",
      "\n",
      "Current step: 500\n",
      "Accuracy: 0.4399999976158142\n",
      "\n",
      "\n",
      "Current step: 600\n",
      "Accuracy: 0.46000000834465027\n",
      "\n",
      "\n",
      "Current step: 700\n",
      "Accuracy: 0.4699999988079071\n",
      "\n",
      "\n",
      "Current step: 800\n",
      "Accuracy: 0.49000000953674316\n",
      "\n",
      "\n",
      "Current step: 900\n",
      "Accuracy: 0.5\n",
      "\n",
      "\n"
     ]
    }
   ],
   "source": [
    "steps = 1000\n",
    "with tf.Session() as sess:\n",
    "    sess.run(init_vars)\n",
    "    \n",
    "    for step in range(steps):\n",
    "        batch_size = 100\n",
    "        batch_images, batch_labels = data_helper.next_batch(batch_size)\n",
    "        \n",
    "        sess.run(\n",
    "            train, feed_dict = {\n",
    "                images: batch_images,\n",
    "                labels: batch_labels,\n",
    "                hold_prob: 0.5\n",
    "            }\n",
    "        )\n",
    "        \n",
    "        if step % 100 == 0:\n",
    "            print('Current step: {}'.format(step))\n",
    "            matches = tf.equal(tf.argmax(labels, axis=1), tf.argmax(labels_pred, axis=1))\n",
    "            matches = tf.cast(matches, tf.float32)\n",
    "            accuracy = tf.reduce_mean(matches)\n",
    "            accuracy_result = sess.run(accuracy, feed_dict={\n",
    "                images: data_helper.get_test_images(),\n",
    "                labels: data_helper.get_test_labels(),\n",
    "                hold_prob: 1.0\n",
    "            })\n",
    "            print('Accuracy: {}'.format(round(accuracy_result, 2)))\n",
    "            print('\\n')\n",
    "            "
   ]
  },
  {
   "cell_type": "markdown",
   "metadata": {},
   "source": [
    "# Discussion\n",
    "After running the model for 900 steps we were able to obtain the accuracy of 50%. This result is promissing and the similar works showed that after 5000 loops the result should be around 70%"
   ]
  },
  {
   "cell_type": "code",
   "execution_count": null,
   "metadata": {},
   "outputs": [],
   "source": []
  }
 ],
 "metadata": {
  "kernelspec": {
   "display_name": "Python 3",
   "language": "python",
   "name": "python3"
  },
  "language_info": {
   "codemirror_mode": {
    "name": "ipython",
    "version": 3
   },
   "file_extension": ".py",
   "mimetype": "text/x-python",
   "name": "python",
   "nbconvert_exporter": "python",
   "pygments_lexer": "ipython3",
   "version": "3.6.3"
  }
 },
 "nbformat": 4,
 "nbformat_minor": 2
}
